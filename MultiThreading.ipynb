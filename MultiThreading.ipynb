{
 "cells": [
  {
   "cell_type": "markdown",
   "metadata": {},
   "source": [
    "## *MultiThreading.py*"
   ]
  },
  {
   "cell_type": "code",
   "execution_count": null,
   "metadata": {
    "collapsed": true
   },
   "outputs": [],
   "source": [
    "from threading import Thread\n",
    "import time\n",
    "\n",
    "\n",
    "def timer(name, delay, repeat):\n",
    "    print(\"Timer: \" + name + \" Started\")\n",
    "    while repeat > 0:\n",
    "        time.sleep(delay)\n",
    "        print(name + \": \" + str(time.ctime(time.time())))\n",
    "        repeat = -1\n",
    "    print(\"Timer: \" + name + \" Completed\")\n",
    "\n",
    "\n",
    "def Main():\n",
    "    t1 = Thread(target=timer, args=(\"Timer1\", 1, 5))\n",
    "    t2 = Thread(target=timer, args=(\"Timer2\", 2, 5))\n",
    "    t1.start()\n",
    "    t2.start()\n",
    "\n",
    "    print(\"Main Completed\")\n",
    "\n",
    "\n",
    "if __name__ == '__main__':\n",
    "    Main()\n"
   ]
  },
  {
   "cell_type": "markdown",
   "metadata": {},
   "source": [
    "## *ThreadLocks.py*"
   ]
  },
  {
   "cell_type": "code",
   "execution_count": null,
   "metadata": {
    "collapsed": true
   },
   "outputs": [],
   "source": [
    "import threading\n",
    "import time\n",
    "\n",
    "tLock = threading.Lock()\n",
    "\n",
    "def timer(name, delay, repeat):\n",
    "    print(\"Timer: \" + name + \" Started\")\n",
    "    tLock.acquire()\n",
    "    print(name+\" Has acquired has the lock\")\n",
    "    while repeat > 0:\n",
    "        time.sleep(delay)\n",
    "        print(name + \": \" + str(time.ctime(time.time())))\n",
    "        repeat = -1\n",
    "    print(name + \" is releasing the lock\")\n",
    "    tLock.release()\n",
    "    print(\"Timer: \" + name + \" Completed\")\n",
    "\n",
    "\n",
    "def Main():\n",
    "    t1 = threading.Thread(target=timer, args=(\"Timer1\", 1, 5))\n",
    "    t2 = threading.Thread(target=timer, args=(\"Timer2\", 2, 5))\n",
    "    t1.start()\n",
    "    t2.start()\n",
    "\n",
    "    print(\"Main Completed\")\n",
    "\n",
    "\n",
    "if __name__ == '__main__':\n",
    "    Main()\n"
   ]
  },
  {
   "cell_type": "markdown",
   "metadata": {},
   "source": [
    "## *AsyncWrite.py*"
   ]
  },
  {
   "cell_type": "code",
   "execution_count": null,
   "metadata": {
    "collapsed": true
   },
   "outputs": [],
   "source": [
    "import threading\n",
    "import time\n",
    "\n",
    "class AsyncWrite(threading.Thread):\n",
    "    def __init__(self,text,out):\n",
    "        threading.Thread.__init__(self)\n",
    "        self.text = text\n",
    "        self.out = out\n",
    "\n",
    "    def run(self):\n",
    "        f = open(self.out,\"a\")\n",
    "        f.write(self.text)\n",
    "        f.close()\n",
    "        time.sleep(2)\n",
    "        print(\"Finished Background File Write to \"+self.text)\n",
    "\n",
    "def Main():\n",
    "    message = input(\"Enter a string to store:\")\n",
    "    background = AsyncWrite(message,'out.txt')\n",
    "    background.start()\n",
    "    print(\"The program can continue while it writes in another thread\")\n",
    "    print(\"100 + 400 = \", 100+400)\n",
    "\n",
    "    background.join() #wait till background thread is done\n",
    "    print(\"Wait till background thread is complete\")\n",
    "\n",
    "if __name__ == '__main__':\n",
    "    Main()\n",
    "\n"
   ]
  },
  {
   "cell_type": "markdown",
   "metadata": {},
   "source": [
    "---"
   ]
  }
 ],
 "metadata": {
  "kernelspec": {
   "display_name": "Python 2",
   "language": "python",
   "name": "python2"
  },
  "language_info": {
   "codemirror_mode": {
    "name": "ipython",
    "version": 2
   },
   "file_extension": ".py",
   "mimetype": "text/x-python",
   "name": "python",
   "nbconvert_exporter": "python",
   "pygments_lexer": "ipython2",
   "version": "2.7.11"
  }
 },
 "nbformat": 4,
 "nbformat_minor": 0
}
