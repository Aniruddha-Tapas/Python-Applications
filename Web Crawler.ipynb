{
 "cells": [
  {
   "cell_type": "markdown",
   "metadata": {},
   "source": [
    "## *webcrawler.py*"
   ]
  },
  {
   "cell_type": "code",
   "execution_count": null,
   "metadata": {
    "collapsed": true
   },
   "outputs": [],
   "source": [
    "import requests\n",
    "from bs4 import BeautifulSoup\n",
    "\n",
    "def crawler(max_pages):\n",
    "    page = 1\n",
    "    while page <= max_pages:\n",
    "        url = 'http://www.snapdeal.com/product/apple-macbook-pro-13-inch/199160/reviews?page=' \n",
    "                + str(page)\n",
    "                + '&sortBy=HELPFUL#defRevPDP'\n",
    "        # find the source code of the desired webpage\n",
    "        source_code = requests.get(url)\n",
    "        plain_text = source_code.text\n",
    "        #print(plain_text)\n",
    "\n",
    "        bsobj = BeautifulSoup(plain_text, \"html.parser\")  # Create a BeutifulSoup object\n",
    "\n",
    "        \n",
    "        for main in bsobj.findAll('div', {'class': 'user-review'}):\n",
    "            p = main.get_text()\n",
    "            #print(p)\n",
    "            with open(\"reviews.txt\",\"a\") as myfile:\n",
    "                    myfile.write(p)\n",
    "                \n",
    "        page += 1\n",
    "\n",
    "                \n",
    "crawler(25)\n",
    "#myfile.close()"
   ]
  },
  {
   "cell_type": "markdown",
   "metadata": {},
   "source": [
    "___"
   ]
  }
 ],
 "metadata": {
  "kernelspec": {
   "display_name": "Python 2",
   "language": "python",
   "name": "python2"
  },
  "language_info": {
   "codemirror_mode": {
    "name": "ipython",
    "version": 2
   },
   "file_extension": ".py",
   "mimetype": "text/x-python",
   "name": "python",
   "nbconvert_exporter": "python",
   "pygments_lexer": "ipython2",
   "version": "2.7.11"
  }
 },
 "nbformat": 4,
 "nbformat_minor": 0
}
