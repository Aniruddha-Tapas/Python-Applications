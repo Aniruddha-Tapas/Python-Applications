{
 "cells": [
  {
   "cell_type": "markdown",
   "metadata": {},
   "source": [
    "## *templateExample1.py*"
   ]
  },
  {
   "cell_type": "code",
   "execution_count": 1,
   "metadata": {
    "collapsed": false
   },
   "outputs": [
    {
     "name": "stdout",
     "output_type": "stream",
     "text": [
      "Cart:\n",
      "2 x Coke = 8\n",
      "1 x Cake = 12\n",
      "4 x Fish = 32\n",
      "Total: 52\n"
     ]
    }
   ],
   "source": [
    "from string import Template\n",
    "\n",
    "def Main():\n",
    "    cart = []\n",
    "    cart.append(dict(item=\"Coke\", price=8, qty=2))\n",
    "    cart.append(dict(item=\"Cake\", price=12, qty=1))\n",
    "    cart.append(dict(item=\"Fish\", price=32, qty=4))\n",
    "\n",
    "    t = Template(\"$qty x $item = $price\")\n",
    "    total = 0\n",
    "    print(\"Cart:\")\n",
    "    for data in cart:\n",
    "        print(t.substitute(data))\n",
    "        total += data[\"price\"]\n",
    "    print(\"Total: \" + str(total))\n",
    "\n",
    "if __name__ == '__main__':\n",
    "    Main()\n"
   ]
  },
  {
   "cell_type": "markdown",
   "metadata": {},
   "source": [
    "## *templateExample2.py*"
   ]
  },
  {
   "cell_type": "code",
   "execution_count": 2,
   "metadata": {
    "collapsed": false
   },
   "outputs": [
    {
     "name": "stdout",
     "output_type": "stream",
     "text": [
      "Cart:\n",
      "2 x Coke = 8\n",
      "1 x Cake = 12\n",
      "4 x Fish = 32\n",
      "Total: 52\n"
     ]
    }
   ],
   "source": [
    "from string import Template\n",
    "\n",
    "class MyTemplate(Template):\n",
    "    delimiter = '#'\n",
    "\n",
    "def Main():\n",
    "    cart = []\n",
    "    cart.append(dict(item=\"Coke\", price=8, qty=2))\n",
    "    cart.append(dict(item=\"Cake\", price=12, qty=1))\n",
    "    cart.append(dict(item=\"Fish\", price=32, qty=4))\n",
    "\n",
    "    t = MyTemplate(\"#qty x #item = #price\")\n",
    "    total = 0\n",
    "    print(\"Cart:\")\n",
    "    for data in cart:\n",
    "        print(t.substitute(data))\n",
    "        total += data[\"price\"]\n",
    "    print(\"Total: \" + str(total))\n",
    "\n",
    "\n",
    "if __name__ == '__main__':\n",
    "    Main()"
   ]
  },
  {
   "cell_type": "code",
   "execution_count": null,
   "metadata": {
    "collapsed": true
   },
   "outputs": [],
   "source": []
  }
 ],
 "metadata": {
  "kernelspec": {
   "display_name": "Python 2",
   "language": "python",
   "name": "python2"
  },
  "language_info": {
   "codemirror_mode": {
    "name": "ipython",
    "version": 2
   },
   "file_extension": ".py",
   "mimetype": "text/x-python",
   "name": "python",
   "nbconvert_exporter": "python",
   "pygments_lexer": "ipython2",
   "version": "2.7.11"
  }
 },
 "nbformat": 4,
 "nbformat_minor": 0
}
