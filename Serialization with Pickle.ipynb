{
 "cells": [
  {
   "cell_type": "markdown",
   "metadata": {},
   "source": [
    "## *serialize.py*"
   ]
  },
  {
   "cell_type": "code",
   "execution_count": null,
   "metadata": {
    "collapsed": true
   },
   "outputs": [],
   "source": [
    "import pickle\n",
    "\n",
    "dict1 = {'a': 100,\n",
    "        'b': 200,\n",
    "        'c': 300}\n",
    "\n",
    "list1 = [400,\n",
    "        500,\n",
    "        600]\n",
    "\n",
    "print(dict1)\n",
    "print(list1)\n",
    "\n",
    "output = open(\"save1.pkl\", 'wb')\n",
    "\n",
    "pickle.dump(dict1, output,pickle.HIGHEST_PROTOCOL)\n",
    "pickle.dump(list1, output,pickle.HIGHEST_PROTOCOL)\n",
    "\n",
    "output.close()\n",
    "\n",
    "print(\"------------------\")\n",
    "\n",
    "inputFile = open(\"save1.pkl\", 'rb')\n",
    "\n",
    "dict2 = pickle.load(inputFile)\n",
    "list2 = pickle.load(inputFile)\n",
    "\n",
    "inputFile.close()\n",
    "\n",
    "print(dict2)\n",
    "print(list2)\n"
   ]
  },
  {
   "cell_type": "markdown",
   "metadata": {},
   "source": [
    "## *Player.py*"
   ]
  },
  {
   "cell_type": "code",
   "execution_count": null,
   "metadata": {
    "collapsed": true
   },
   "outputs": [],
   "source": [
    "class Player:\n",
    "\n",
    "    def __init__(self, ID, name, health, items):\n",
    "        self.id = ID\n",
    "        self.name = name\n",
    "        self.health = health\n",
    "        self.items = items\n",
    "\n",
    "    def __str__(self):\n",
    "        return \"My ID: \" + str(self.id) + \\\n",
    "            \" \\nMy Name: \" + self.name + \\\n",
    "            \" \\nMy Health: \" + str(self.health) + \\\n",
    "            \" \\nMy Items: \" + str(self.items) + \".\""
   ]
  },
  {
   "cell_type": "markdown",
   "metadata": {},
   "source": [
    "## *savedata.py*"
   ]
  },
  {
   "cell_type": "code",
   "execution_count": null,
   "metadata": {
    "collapsed": true
   },
   "outputs": [],
   "source": [
    "import pickle\n",
    "from Player import Player\n",
    "\n",
    "items = [\"axe\", \"sword\", \"gun\"]\n",
    "\n",
    "myObj = Player(1,\"JEFF\", 100.00, items)\n",
    "print(myObj)\n",
    "\n",
    "with open(\"save2.pkl\", 'wb') as outfile:\n",
    "    pickle.dump(myObj, outfile,pickle.HIGHEST_PROTOCOL)\n",
    "\n",
    "print(\"-------------------\")\n",
    "newObj = None\n",
    "\n",
    "with open(\"save2.pkl\", 'rb') as infile:\n",
    "    newObj = pickle.load(infile)\n",
    "\n",
    "print(newObj)"
   ]
  },
  {
   "cell_type": "markdown",
   "metadata": {},
   "source": [
    "___"
   ]
  }
 ],
 "metadata": {
  "kernelspec": {
   "display_name": "Python 2",
   "language": "python",
   "name": "python2"
  },
  "language_info": {
   "codemirror_mode": {
    "name": "ipython",
    "version": 2
   },
   "file_extension": ".py",
   "mimetype": "text/x-python",
   "name": "python",
   "nbconvert_exporter": "python",
   "pygments_lexer": "ipython2",
   "version": "2.7.11"
  }
 },
 "nbformat": 4,
 "nbformat_minor": 0
}
