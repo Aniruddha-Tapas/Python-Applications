{
 "cells": [
  {
   "cell_type": "markdown",
   "metadata": {},
   "source": [
    "## *encrypt.py*"
   ]
  },
  {
   "cell_type": "code",
   "execution_count": null,
   "metadata": {
    "collapsed": true
   },
   "outputs": [],
   "source": [
    "//encrypt.py//\n",
    "\n",
    "import os\n",
    "from Crypto.Cipher import AES\n",
    "from Crypto.Hash import SHA256\n",
    "from Crypto import Random\n",
    "\n",
    "def encrypt(key, filename):\n",
    "    chunksize = 64*1024\n",
    "    outputFile = \"(encrypted)\"+filename\n",
    "    filesize = str(os.path.getsize(filename)).zfill(16)\n",
    "    IV = Random.new().read(16)\n",
    "\n",
    "    encryptor = AES.new(key, AES.MODE_CBC, IV)\n",
    "\n",
    "    with open(filename, 'rb') as infile:\n",
    "        with open(outputFile, 'wb') as outfile:\n",
    "            outfile.write(filesize.encode('utf-8'))\n",
    "            outfile.write(IV)\n",
    "\n",
    "            while True:\n",
    "                chunk = infile.read(chunksize)\n",
    "\n",
    "                if len(chunk) == 0:\n",
    "                    break\n",
    "                elif len(chunk) % 16 != 0:\n",
    "                    chunk += b' ' * (16 - (len(chunk) % 16))\n",
    "\n",
    "                outfile.write(encryptor.encrypt(chunk))\n",
    "\n",
    "\n",
    "def decrypt(key, filename):\n",
    "    chunksize = 64*1024\n",
    "    outputFile = filename[11:]\n",
    "\n",
    "    with open(filename, 'rb') as infile:\n",
    "        filesize = int(infile.read(16))\n",
    "        IV = infile.read(16)\n",
    "\n",
    "        decryptor = AES.new(key, AES.MODE_CBC, IV)\n",
    "\n",
    "        with open(outputFile, 'wb') as outfile:\n",
    "            while True:\n",
    "                chunk = infile.read(chunksize)\n",
    "\n",
    "                if len(chunk) == 0:\n",
    "                    break\n",
    "\n",
    "                outfile.write(decryptor.decrypt(chunk))\n",
    "            outfile.truncate(filesize)\n",
    "\n",
    "\n",
    "def getKey(password):\n",
    "    hasher = SHA256.new(password.encode('utf-8'))\n",
    "    return hasher.digest()\n",
    "\n",
    "def Main():\n",
    "    choice = input(\"Would you like to (E)ncrypt or (D)ecrypt?: \")\n",
    "\n",
    "    if choice == 'E':\n",
    "        filename = input(\"File to encrypt: \")\n",
    "        password = input(\"Password: \")\n",
    "        encrypt(getKey(password), filename)\n",
    "        print(\"Done.\")\n",
    "    elif choice == 'D':\n",
    "        filename = input(\"File to decrypt: \")\n",
    "        password = input(\"Password: \")\n",
    "        decrypt(getKey(password), filename)\n",
    "        print(\"Done.\")\n",
    "    else:\n",
    "        print(\"No Option selected, closing...\")\n",
    "\n",
    "if __name__ == '__main__':\n",
    "    Main()\n",
    "\n",
    "\n"
   ]
  },
  {
   "cell_type": "markdown",
   "metadata": {},
   "source": [
    "___"
   ]
  }
 ],
 "metadata": {
  "kernelspec": {
   "display_name": "Python 2",
   "language": "python",
   "name": "python2"
  },
  "language_info": {
   "codemirror_mode": {
    "name": "ipython",
    "version": 2
   },
   "file_extension": ".py",
   "mimetype": "text/x-python",
   "name": "python",
   "nbconvert_exporter": "python",
   "pygments_lexer": "ipython2",
   "version": "2.7.11"
  }
 },
 "nbformat": 4,
 "nbformat_minor": 0
}
