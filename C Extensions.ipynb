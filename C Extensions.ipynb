{
 "cells": [
  {
   "cell_type": "markdown",
   "metadata": {},
   "source": [
    "## *myModule.c*"
   ]
  },
  {
   "cell_type": "raw",
   "metadata": {},
   "source": [
    "#include <Python.h>\n",
    " \n",
    "int Cfib(int n)\n",
    "{\n",
    "    if (n < 2)\n",
    "        return n;\n",
    "    else\n",
    "        return Cfib(n-1) + Cfib(n-2);\n",
    "}\n",
    " \n",
    "static PyObject* fib(PyObject* self, PyObject* args)\n",
    "{\n",
    "    int n;\n",
    " \n",
    "    if (!PyArg_ParseTuple(args, \"i\", &n))\n",
    "        return NULL;\n",
    " \n",
    "    return Py_BuildValue(\"i\", Cfib(n));\n",
    "}\n",
    "\n",
    "static PyObject* version(PyObject* self)\n",
    "{\n",
    "    return Py_BuildValue(\"s\", \"Version 1.0\");\n",
    "}\n",
    " \n",
    "static PyMethodDef myMethods[] = {\n",
    "    {\"fib\", fib, METH_VARARGS, \"Calculate the Fibonacci numbers.\"},\n",
    "    {\"version\", (PyCFunction)version, METH_NOARGS, \"Returns the version.\"},\n",
    "    {NULL, NULL, 0, NULL}\n",
    "};\n",
    " \n",
    "static struct PyModuleDef myModule = {\n",
    "\tPyModuleDef_HEAD_INIT,\n",
    "\t\"myModule\", #name of module.\n",
    "\t\"Fibonacci Module\",\n",
    "\t-1,\n",
    "\tmyMethods\n",
    "};\n",
    "\n",
    "PyMODINIT_FUNC PyInit_myModule(void)\n",
    "{\n",
    "    return PyModule_Create(&myModule);\n",
    "}\n"
   ]
  },
  {
   "cell_type": "markdown",
   "metadata": {},
   "source": [
    "## *setup.py*"
   ]
  },
  {
   "cell_type": "code",
   "execution_count": null,
   "metadata": {
    "collapsed": true
   },
   "outputs": [],
   "source": [
    "from distutils.core import setup, Extension\n",
    " \n",
    "module = Extension('myModule', sources = ['myModule.c'])\n",
    " \n",
    "setup (name = 'PackageName',\n",
    "        version = '1.0',\n",
    "        description = 'This is a package for myModule',\n",
    "        ext_modules = [module])"
   ]
  },
  {
   "cell_type": "markdown",
   "metadata": {},
   "source": [
    "## *run.py*"
   ]
  },
  {
   "cell_type": "code",
   "execution_count": null,
   "metadata": {
    "collapsed": true
   },
   "outputs": [],
   "source": [
    "import myModule\n",
    "\n",
    "print(myModule.fib(10))\n",
    "print(myModule.version())"
   ]
  },
  {
   "cell_type": "markdown",
   "metadata": {},
   "source": [
    "___"
   ]
  }
 ],
 "metadata": {
  "kernelspec": {
   "display_name": "Python 2",
   "language": "python",
   "name": "python2"
  },
  "language_info": {
   "codemirror_mode": {
    "name": "ipython",
    "version": 2
   },
   "file_extension": ".py",
   "mimetype": "text/x-python",
   "name": "python",
   "nbconvert_exporter": "python",
   "pygments_lexer": "ipython2",
   "version": "2.7.11"
  }
 },
 "nbformat": 4,
 "nbformat_minor": 0
}
