{
 "cells": [
  {
   "cell_type": "markdown",
   "metadata": {},
   "source": [
    "## *udpClient.py*"
   ]
  },
  {
   "cell_type": "code",
   "execution_count": null,
   "metadata": {
    "collapsed": true
   },
   "outputs": [],
   "source": [
    "import socket\n",
    "\n",
    "\n",
    "def Main1():\n",
    "    host = '127.0.0.1'\n",
    "    port = 5001\n",
    "\n",
    "    server = ('127.0.0.1',5000) #create a server on this machine\n",
    "\n",
    "    s = socket.socket(socket.AF_INET,socket.SOCK_DGRAM)  # create a socket object\n",
    "    s.bind((host,port))\n",
    "\n",
    "    message = input(\"-> \")\n",
    "    while message != 'q':\n",
    "        s.sendto(message.encode('utf-8'),server)  # send message\n",
    "        data , addr = s.recvfrom(1024)\n",
    "        data= data.decode('utf-8')\n",
    "        print(\"Received from server : \" + data)\n",
    "        message = input(\"-> \")\n",
    "    s.close()\n",
    "\n",
    "if __name__ == '__main__':\n",
    "    Main1()\n"
   ]
  },
  {
   "cell_type": "markdown",
   "metadata": {},
   "source": [
    "## *udpServer.py*"
   ]
  },
  {
   "cell_type": "code",
   "execution_count": null,
   "metadata": {
    "collapsed": true
   },
   "outputs": [],
   "source": [
    "import socket\n",
    "\n",
    "\n",
    "def Main():\n",
    "    host = '127.0.0.1'\n",
    "    port = 5000\n",
    "\n",
    "    s = socket.socket(socket.AF_INET,socket.SOCK_DGRAM)  # create a socket object\n",
    "    s.connect((host,port))\n",
    "\n",
    "    print(\"Server Started\")\n",
    "    while True:\n",
    "        data, addr = s.recvfrom(1024)\n",
    "        data = data.decode('utf-8')\n",
    "        print(\"Message from : \" + str(addr))\n",
    "        print(\"From connected user :\" + data)\n",
    "        data = data.upper()\n",
    "        print(\"Sending: \" + data)\n",
    "        s.send(data.encode('utf-8'))  # encode the data to send\n",
    "    s.close()\n",
    "\n",
    "if __name__ == '__main__':\n",
    "    Main()"
   ]
  },
  {
   "cell_type": "markdown",
   "metadata": {},
   "source": [
    "___"
   ]
  }
 ],
 "metadata": {
  "kernelspec": {
   "display_name": "Python 2",
   "language": "python",
   "name": "python2"
  },
  "language_info": {
   "codemirror_mode": {
    "name": "ipython",
    "version": 2
   },
   "file_extension": ".py",
   "mimetype": "text/x-python",
   "name": "python",
   "nbconvert_exporter": "python",
   "pygments_lexer": "ipython2",
   "version": "2.7.11"
  }
 },
 "nbformat": 4,
 "nbformat_minor": 0
}
