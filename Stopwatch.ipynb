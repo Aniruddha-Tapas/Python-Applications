{
 "cells": [
  {
   "cell_type": "markdown",
   "metadata": {},
   "source": [
    "## *stopwatch.py*"
   ]
  },
  {
   "cell_type": "code",
   "execution_count": null,
   "metadata": {
    "collapsed": true
   },
   "outputs": [],
   "source": [
    "#A simple stopwatch program.\n",
    "\n",
    "import time\n",
    "\n",
    "# Display the program's instructions.\n",
    "print('Press enter to begin. Afterwards, press ENTER to \"click\" the stopwatch. Press Ctrl-C to quit.')\n",
    "input() # press Enter to begin\n",
    "print('Started.')\n",
    "startTime = time.time() # get the first lap's start time\n",
    "lastTime = startTime\n",
    "lapNum = 1\n",
    "\n",
    "# Start tracking the lap times.\n",
    "try:\n",
    "    while True:\n",
    "        input()\n",
    "        lapTime = round(time.time() - lastTime, 2)\n",
    "        totalTime = round(time.time() - startTime, 2)\n",
    "        print('Lap #%s: %s (%s)' % (lapNum, totalTime, lapTime), end='')\n",
    "        lapNum += 1\n",
    "        lastTime = time.time() # reset the last lap time\n",
    "except KeyboardInterrupt:\n",
    "    # Handle the Ctrl-C exception to keep its error message from displaying.\n",
    "    print('\\nDone.')\n"
   ]
  },
  {
   "cell_type": "markdown",
   "metadata": {},
   "source": [
    "___"
   ]
  }
 ],
 "metadata": {
  "kernelspec": {
   "display_name": "Python 2",
   "language": "python",
   "name": "python2"
  },
  "language_info": {
   "codemirror_mode": {
    "name": "ipython",
    "version": 2
   },
   "file_extension": ".py",
   "mimetype": "text/x-python",
   "name": "python",
   "nbconvert_exporter": "python",
   "pygments_lexer": "ipython2",
   "version": "2.7.11"
  }
 },
 "nbformat": 4,
 "nbformat_minor": 0
}
