{
 "cells": [
  {
   "cell_type": "markdown",
   "metadata": {},
   "source": [
    "## *example1.py*"
   ]
  },
  {
   "cell_type": "code",
   "execution_count": null,
   "metadata": {
    "collapsed": true
   },
   "outputs": [],
   "source": [
    "import re\n",
    "\n",
    "def Main():\n",
    "    line = \"I think I understand regular expressions\"\n",
    "\n",
    "    matchResult = re.match('think', line, re.M|re.I)\n",
    "    if matchResult:\n",
    "        print(\"Match Found: \" + matchResult.group())\n",
    "    else:\n",
    "        print(\"No match was found\")\n",
    "\n",
    "    searchResult = re.search('think', line, re.M|re.I)\n",
    "    if searchResult:\n",
    "        print(\"Search Found: \"+searchResult.group())\n",
    "    else:\n",
    "        print(\"Nothing found in search\")\n",
    "\n",
    "\n",
    "if __name__ == '__main__':\n",
    "    Main()"
   ]
  },
  {
   "cell_type": "markdown",
   "metadata": {},
   "source": [
    "## *example2.py*"
   ]
  },
  {
   "cell_type": "code",
   "execution_count": null,
   "metadata": {
    "collapsed": true
   },
   "outputs": [],
   "source": [
    "import re\n",
    "import argparse\n",
    "\n",
    "def Main():\n",
    "    parser = argparse.ArgumentParser()\n",
    "    parser.add_argument('word', help='specify word to search for')\n",
    "    parser.add_argument('fname', help='specify file to search')\n",
    "    args = parser.parse_args()\n",
    "\n",
    "    searchFile = open(args.fname)\n",
    "    lineNum = 0\n",
    "    \n",
    "    for line in searchFile.readlines():\n",
    "        line = line.strip('\\n\\r')\n",
    "        lineNum += 1\n",
    "        searchResult = re.search(args.word, line, re.M|re.I)\n",
    "        if searchResult:\n",
    "            print(str(lineNum) + ': ' + line)\n",
    "\n",
    "\n",
    "if __name__ == '__main__':\n",
    "    Main()"
   ]
  },
  {
   "cell_type": "markdown",
   "metadata": {},
   "source": [
    "___\n",
    "## Regex Symbols\n",
    "\n",
    "\n",
    "* The <strong>?</strong> matches zero or one of the preceding group.\n",
    "\n",
    "\n",
    "* The <strong>*</strong> matches zero or more of the preceding group.\n",
    "\n",
    "\n",
    "* The <strong>+</strong> matches one or more of the preceding group.\n",
    "\n",
    "\n",
    "* The <strong>{n}</strong> matches exactly n of the preceding group.\n",
    "\n",
    "\n",
    "* The <strong>{n,}</strong> matches n or more of the preceding group.\n",
    "\n",
    "\n",
    "* The <strong>{,m}</strong> matches 0 to m of the preceding group.\n",
    "\n",
    "\n",
    "* The <strong>{n,m}</strong> matches at least n and at most m of the preceding group.\n",
    "\n",
    "\n",
    "* <strong>{n,m}? or *? or +?</strong> performs a nongreedy match of the preceding group.\n",
    "\n",
    "\n",
    "* <strong>^aaa</strong> means the string must begin with aaa.\n",
    "\n",
    "\n",
    "* <strong>bbb$</strong> means the string must end with bbb.\n",
    "\n",
    "\n",
    "* The <strong>.</strong> matches any character, except newline characters.\n",
    "\n",
    "\n",
    "* <strong>\\d, \\w, and \\s</strong> match a digit, word, or space character, respectively.\n",
    "\n",
    "\n",
    "* <strong>\\D, \\W, and \\S</strong> match anything except a digit, word, or space character, respectively.\n",
    "\n",
    "\n",
    "* <strong>[xyz]</strong> matches any character between the brackets (such as x, y, or z)\n",
    "\n",
    "\n",
    "* <strong>[^xyz]</strong> matches any character that isn’t between the brackets."
   ]
  },
  {
   "cell_type": "markdown",
   "metadata": {},
   "source": [
    "___"
   ]
  }
 ],
 "metadata": {
  "kernelspec": {
   "display_name": "Python 2",
   "language": "python",
   "name": "python2"
  },
  "language_info": {
   "codemirror_mode": {
    "name": "ipython",
    "version": 2
   },
   "file_extension": ".py",
   "mimetype": "text/x-python",
   "name": "python",
   "nbconvert_exporter": "python",
   "pygments_lexer": "ipython2",
   "version": "2.7.11"
  }
 },
 "nbformat": 4,
 "nbformat_minor": 0
}
